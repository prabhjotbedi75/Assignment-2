{
 "cells": [
  {
   "cell_type": "code",
   "execution_count": 21,
   "metadata": {},
   "outputs": [],
   "source": [
    "#Task1"
   ]
  },
  {
   "cell_type": "code",
   "execution_count": 3,
   "metadata": {},
   "outputs": [
    {
     "data": {
      "text/plain": [
       "28"
      ]
     },
     "execution_count": 3,
     "metadata": {},
     "output_type": "execute_result"
    }
   ],
   "source": [
    "#Q1.1 Write a Python Program to implement your own myreduce() function which works exactly like Python's built-in function reduce() \n",
    "def myreduce(func,seq):\n",
    "    s=0\n",
    "    for i in seq:\n",
    "        s=func(s,i)\n",
    "    \n",
    "    return s\n",
    "    \n",
    "def sum(a,b):\n",
    "    return a+b\n",
    "l=[10,3,4,5,6]\n",
    "myreduce(sum,l)"
   ]
  },
  {
   "cell_type": "code",
   "execution_count": 34,
   "metadata": {},
   "outputs": [
    {
     "name": "stdout",
     "output_type": "stream",
     "text": [
      "My filter function values are:\n"
     ]
    },
    {
     "data": {
      "text/plain": [
       "[2, 4]"
      ]
     },
     "execution_count": 34,
     "metadata": {},
     "output_type": "execute_result"
    }
   ],
   "source": [
    "#Q1.2 Write a Python program to implement your own myfilter() function which works exactly like Python's built-in function filter()\n",
    "def myfilter(func,seq):\n",
    "    s=[]\n",
    "    for i in seq:\n",
    "        if func(i):\n",
    "            s.append(i)\n",
    "    return s\n",
    "\n",
    "def even_check(n):\n",
    "    if n%2==0:\n",
    "        return True\n",
    "    \n",
    "l=[1,2,3,4,5]\n",
    "print(\"My filter function values are:\")\n",
    "myfilter(even_check,l)\n"
   ]
  },
  {
   "cell_type": "code",
   "execution_count": 36,
   "metadata": {},
   "outputs": [],
   "source": [
    "#Q2.Implement List comprehensions to produce the following lists.\n",
    "#Write List comprehensions to produce the following Lists\n",
    "#1['A', 'C', 'A', 'D', 'G', 'I', ’L’, ‘ D’]\n",
    "#2['x', 'xx', 'xxx', 'xxxx', 'y', 'yy', 'yyy', 'yyyy', 'z', 'zz', 'zzz', 'zzzz']\n",
    "#3['x', 'y', 'z', 'xx', 'yy', 'zz', 'xx', 'yy', 'zz', 'xxxx', 'yyyy', 'zzzz']\n",
    "#4[[2], [3], [4], [3], [4], [5], [4], [5], [6]]\n",
    "#5[[2, 3, 4, 5], [3, 4, 5, 6], [4, 5, 6, 7], [5, 6, 7, 8]]\"\n",
    "#6[(1, 1), (2, 1), (3, 1), (1, 2), (2, 2), (3, 2), (1, 3), (2, 3), (3, 3)]"
   ]
  },
  {
   "cell_type": "code",
   "execution_count": 45,
   "metadata": {},
   "outputs": [
    {
     "name": "stdout",
     "output_type": "stream",
     "text": [
      "['A', 'C', 'A', 'D', 'G', 'I', 'L', 'D']\n"
     ]
    }
   ],
   "source": [
    "#1\n",
    "wd='ACADGILD'\n",
    "wd_list=[i for i in wd]\n",
    "print(wd_list)"
   ]
  },
  {
   "cell_type": "code",
   "execution_count": 55,
   "metadata": {},
   "outputs": [
    {
     "name": "stdout",
     "output_type": "stream",
     "text": [
      "['x', 'xx', 'xxx', 'xxxx', 'y', 'yy', 'yyy', 'yyyy', 'z', 'zz', 'zzz', 'zzzz']\n"
     ]
    }
   ],
   "source": [
    "#2\n",
    "myList=['x','y','z']\n",
    "myResult = [i*n for i in myList for n in range(1,5)]\n",
    "print(myResult)"
   ]
  },
  {
   "cell_type": "code",
   "execution_count": 48,
   "metadata": {},
   "outputs": [
    {
     "name": "stdout",
     "output_type": "stream",
     "text": [
      "['x', 'y', 'z', 'xx', 'yy', 'zz', 'xxx', 'yyy', 'zzz', 'xxxx', 'yyyy', 'zzzz']\n"
     ]
    }
   ],
   "source": [
    "#3\n",
    "myList=['x','y','z']\n",
    "myResult = [a*n for n in range(1,5) for a in myList]\n",
    "print(myResult)"
   ]
  },
  {
   "cell_type": "code",
   "execution_count": 49,
   "metadata": {},
   "outputs": [
    {
     "name": "stdout",
     "output_type": "stream",
     "text": [
      "[[2], [3], [4], [3], [4], [5], [4], [5], [6]]\n"
     ]
    }
   ],
   "source": [
    "#4\n",
    "myList = [2,3,4]\n",
    "myResult = [[a+n] for a in myList for n in range(0,3)] \n",
    "print(myResult)"
   ]
  },
  {
   "cell_type": "code",
   "execution_count": 51,
   "metadata": {},
   "outputs": [
    {
     "name": "stdout",
     "output_type": "stream",
     "text": [
      "[[2, 3, 4, 5], [3, 4, 5, 6], [4, 5, 6, 7], [5, 6, 7, 8]]\n"
     ]
    }
   ],
   "source": [
    "#5\n",
    "myList = [2,3,4,5]\n",
    "myResult = [[a+n for a in myList] for n in range(0,4)]\n",
    "print(myResult)"
   ]
  },
  {
   "cell_type": "code",
   "execution_count": 56,
   "metadata": {},
   "outputs": [
    {
     "name": "stdout",
     "output_type": "stream",
     "text": [
      "[(1, 1), (2, 1), (3, 1), (1, 2), (2, 2), (3, 2), (1, 3), (2, 3), (3, 3)]\n"
     ]
    }
   ],
   "source": [
    "#6\n",
    "myList = [1,2,3]\n",
    "myResult = [(b,a) for a in myList for b in myList]\n",
    "print(myResult)"
   ]
  },
  {
   "cell_type": "code",
   "execution_count": 57,
   "metadata": {},
   "outputs": [
    {
     "name": "stdout",
     "output_type": "stream",
     "text": [
      "Get longestWord in the List: Backend\n"
     ]
    }
   ],
   "source": [
    "#Q3. Implement a function longestWord() that takes a list of words and returns the longest one\n",
    "def get_longest_word(input_list):\n",
    "    length = []  \n",
    "    for n in input_list:  \n",
    "        length.append((len(n), n))  \n",
    "    length.sort()  \n",
    "    return length[-1][1]  \n",
    "\n",
    "print(\"Get longestWord in the List: {}\".format(get_longest_word([\"Hello \", \"Hi\", \"Backend\"])))"
   ]
  },
  {
   "cell_type": "code",
   "execution_count": 58,
   "metadata": {},
   "outputs": [],
   "source": [
    "#Task 2:"
   ]
  },
  {
   "cell_type": "code",
   "execution_count": 61,
   "metadata": {},
   "outputs": [],
   "source": [
    "#Q1Write a Python Program(with class concepts) to find the area of the triangle using the below formula. area = (s(s-a)(s-b)*(s-c)) ** 0.5\n",
    "#Function to take the length of the sides of triangle from user should be defined in the parent class and function to calculate the area should be defined in subclass."
   ]
  },
  {
   "cell_type": "code",
   "execution_count": 50,
   "metadata": {},
   "outputs": [
    {
     "name": "stdin",
     "output_type": "stream",
     "text": [
      "Enter the value of a =  2\n",
      "Enter the value of b =  3\n",
      "Enter the value of c =  4\n"
     ]
    },
    {
     "name": "stdout",
     "output_type": "stream",
     "text": [
      "area  2.9047375096555625\n"
     ]
    }
   ],
   "source": [
    "class Base:\n",
    " \n",
    "    def __init__(self,a,b,c):\n",
    "        self.a = a\n",
    "        self.b = b\n",
    "        self.c = c\n",
    " \n",
    "    def area(self):\n",
    "        s=(self.a + self.b + self.c)/2\n",
    "        return((s*(s-self.a)*(s-self.b)*(s-self.c))**0.5)\n",
    " \n",
    "a=int(input(\"Enter the value of a = \"))\n",
    "b=int(input(\"Enter the value of b = \"))\n",
    "c=int(input(\"Enter the value of c = \"))\n",
    "t = Base(a, b, c)\n",
    "print(\"area \",t.area())"
   ]
  },
  {
   "cell_type": "code",
   "execution_count": 64,
   "metadata": {},
   "outputs": [],
   "source": [
    "#Q1.2 Write a function filter_long_words() that takes a list of words and an integer n and returns the list of words that are longer than n.\n",
    "def get_long_words(n, inputstr):\n",
    "    wdlen = []\n",
    "    swords = inputstr.split(\" \")\n",
    "    for x in swords:\n",
    "        if len(x) >= n:\n",
    "            wdlen.append(x)\n",
    "    return wdlen\n",
    "\n",
    "def main():\n",
    "    input_line = input(\"Please input the list of words: \")\n",
    "    input_integer = eval(input(\"Please input an integer: \"))\n",
    "    filterwords = get_long_words(input_integer, input_line)\n",
    "    \n",
    "    print(\"Longer Worlds in the List: {}\".format(filterwords))"
   ]
  },
  {
   "cell_type": "code",
   "execution_count": 66,
   "metadata": {},
   "outputs": [
    {
     "name": "stdin",
     "output_type": "stream",
     "text": [
      "Please input the list of words:  hi hello how arew you\n",
      "Please input an integer:  3\n"
     ]
    },
    {
     "name": "stdout",
     "output_type": "stream",
     "text": [
      "Longer Worlds in the List: ['hello', 'how', 'arew', 'you']\n"
     ]
    }
   ],
   "source": [
    "main()"
   ]
  },
  {
   "cell_type": "code",
   "execution_count": 68,
   "metadata": {},
   "outputs": [
    {
     "name": "stdout",
     "output_type": "stream",
     "text": [
      "Word Length in List => [2, 7, 4, 2, 5]\n"
     ]
    }
   ],
   "source": [
    "#Q2.1 Write a Python program using function concept that maps list of words into a list of integers representing the lengths of the corresponding words . Hint: If a list [ ab,cde,erty] is passed on to the python function output should come as [2,3,4]. Here 2,3 and 4 are the lengths of the words in the list.\n",
    "#a\n",
    "wordList = [\"My\", \"Country\", \"Name\", \"is\", \"India\"]\n",
    "#Get the word Length\n",
    "def wordLength(wordList):\n",
    "    myList = list(map(len, wordList))\n",
    "    return myList\n",
    "\n",
    "print(\"Word Length in List => {}\".format(wordLength(wordList)))"
   ]
  },
  {
   "cell_type": "code",
   "execution_count": 69,
   "metadata": {},
   "outputs": [
    {
     "name": "stdout",
     "output_type": "stream",
     "text": [
      "Word Length in Line => [2, 7, 4, 2, 5]\n"
     ]
    }
   ],
   "source": [
    "#b\n",
    "wordLine = \"My country name is India\"\n",
    "def wordLength(wordLine):\n",
    "    myLine = list(map(len, wordLine.split()))\n",
    "    return myLine\n",
    "\n",
    "print(\"Word Length in Line => {}\".format(wordLength(wordLine)))"
   ]
  },
  {
   "cell_type": "code",
   "execution_count": 70,
   "metadata": {},
   "outputs": [],
   "source": [
    "#Q2.2 Write a Python function which takes a character (i.e. a string of length 1) and returns True if it is a vowel, False otherwise.\n",
    "def Isvowel(myChar):\n",
    "    vowels = 'aeiou'\n",
    "    if myChar.lower() in vowels:\n",
    "        return True\n",
    "    else:\n",
    "        return False\n",
    "def main():\n",
    "    testChar = input(\"Please input char: \")\n",
    "    print(\"Test Chart Result: {}\".format(Isvowel(testChar)))"
   ]
  },
  {
   "cell_type": "code",
   "execution_count": 71,
   "metadata": {},
   "outputs": [
    {
     "name": "stdin",
     "output_type": "stream",
     "text": [
      "Please input char:  e\n"
     ]
    },
    {
     "name": "stdout",
     "output_type": "stream",
     "text": [
      "Test Chart Result: True\n"
     ]
    }
   ],
   "source": [
    "main()\n"
   ]
  },
  {
   "cell_type": "code",
   "execution_count": 72,
   "metadata": {},
   "outputs": [
    {
     "name": "stdin",
     "output_type": "stream",
     "text": [
      "Please input char:  F\n"
     ]
    },
    {
     "name": "stdout",
     "output_type": "stream",
     "text": [
      "Test Chart Result: False\n"
     ]
    }
   ],
   "source": [
    "main()"
   ]
  },
  {
   "cell_type": "code",
   "execution_count": null,
   "metadata": {},
   "outputs": [],
   "source": []
  }
 ],
 "metadata": {
  "kernelspec": {
   "display_name": "Python 3",
   "language": "python",
   "name": "python3"
  },
  "language_info": {
   "codemirror_mode": {
    "name": "ipython",
    "version": 3
   },
   "file_extension": ".py",
   "mimetype": "text/x-python",
   "name": "python",
   "nbconvert_exporter": "python",
   "pygments_lexer": "ipython3",
   "version": "3.7.6"
  }
 },
 "nbformat": 4,
 "nbformat_minor": 4
}
